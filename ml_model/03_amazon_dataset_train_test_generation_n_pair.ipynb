{
 "cells": [
  {
   "cell_type": "markdown",
   "id": "1ee11d0c",
   "metadata": {},
   "source": [
    "## Формирование обучающей и тестовой выборок (n-pair подход)\n",
    "\n",
    "В этом ноутбуке мы формируем датасеты для обучения моделей на основе парных взаимодействий пользователей с товарами:\n",
    "\n",
    "- `df_train_baseline_0_n_pair.csv` — сбалансированная выборка позитивных и негативных примеров для baseline-0 модели, сгенерированная подходом n-pair;\n",
    "- `df_train_baseline_1_n_pair.csv` — сбалансированная выборка позитивных и негативных примеров для baseline-1 модели, сгенерированная подходом n-pair;\n",
    "- `df_train_CLIP_n_pair.csv` — сбалансированная выборка позитивных и негативных примеров для мэтчинговой модел, сгенерированная подходом n-pair;\n",
    "- `df_test_ground_truth_n_pair.csv` — тестовый лог взаимодействий за выбранный временной период (реальные положительные примеры).\n",
    "\n",
    "Также добавляется словарь `ground_truth`, необходимый для расчёта метрик `Precision@K`, `MAP@K`.\n"
   ]
  },
  {
   "cell_type": "code",
   "execution_count": null,
   "id": "dda78887",
   "metadata": {},
   "outputs": [],
   "source": [
    "# Импорт требуемых библиотек\n",
    "import pandas as pd\n",
    "import datetime\n",
    "import numpy as np"
   ]
  },
  {
   "cell_type": "code",
   "execution_count": 2,
   "id": "5bf99a4a",
   "metadata": {},
   "outputs": [],
   "source": [
    "# Подгрузим датасет с отзывами\n",
    "df = pd.read_csv(\"data/amazon_interactions_filtered.csv\")"
   ]
  },
  {
   "cell_type": "code",
   "execution_count": null,
   "id": "c1454a15",
   "metadata": {},
   "outputs": [],
   "source": [
    "# Определим период, за который берем выборку\n",
    "# а именно, согласно анализу файла по взаимодействиям юзеров\n",
    "# с товарами, мы решили, что возьмем выборку за весь 2016 год\n",
    "year = 2016\n",
    "start = int(datetime.datetime(year, 1, 1).timestamp())\n",
    "end = int(datetime.datetime(year, 12, 31, 23, 59, 59).timestamp())"
   ]
  },
  {
   "cell_type": "code",
   "execution_count": null,
   "id": "4466c9ac",
   "metadata": {},
   "outputs": [],
   "source": [
    "# Фильтрация выборки по году\n",
    "df = df[(df[\"timestamp\"] >= start) & (df[\"timestamp\"] <= end)].copy()"
   ]
  },
  {
   "cell_type": "code",
   "execution_count": 5,
   "id": "d9f6437e",
   "metadata": {},
   "outputs": [],
   "source": [
    "from sklearn.model_selection import train_test_split\n",
    "\n",
    "# Шаффлим и делим случайно на train/test\n",
    "df_train, df_test = train_test_split(df, test_size=0.1, random_state=42, shuffle=True)"
   ]
  },
  {
   "cell_type": "code",
   "execution_count": 6,
   "id": "46df8f05",
   "metadata": {},
   "outputs": [
    {
     "name": "stdout",
     "output_type": "stream",
     "text": [
      "Train: 608,892 строк, 294,160 пользователей, 72,132 товаров\n",
      "Test:  67,655 строк, 58,977 пользователей, 26,490 товаров\n"
     ]
    }
   ],
   "source": [
    "print(f\"Train: {len(df_train):,} строк, {df_train['user_id'].nunique():,} пользователей, {df_train['item_id'].nunique():,} товаров\")\n",
    "print(f\"Test:  {len(df_test):,} строк, {df_test['user_id'].nunique():,} пользователей, {df_test['item_id'].nunique():,} товаров\")"
   ]
  },
  {
   "cell_type": "code",
   "execution_count": null,
   "id": "ac9176f4",
   "metadata": {},
   "outputs": [],
   "source": [
    "# Выделим уникальных юзеров на трейне и тесте\n",
    "users_train = set(df_train[\"user_id\"])\n",
    "users_test = set(df_test[\"user_id\"])\n",
    "\n",
    "# Сколько юзеров в test уже встречались в train\n",
    "overlap_users = users_test & users_train"
   ]
  },
  {
   "cell_type": "code",
   "execution_count": 8,
   "id": "93624561",
   "metadata": {},
   "outputs": [
    {
     "name": "stdout",
     "output_type": "stream",
     "text": [
      "Всего пользователей в test: 58,977\n",
      "Из них уже были в train: 44,348\n",
      "Доля покрытых пользователей: 75.2%\n"
     ]
    }
   ],
   "source": [
    "print(f\"Всего пользователей в test: {len(users_test):,}\")\n",
    "print(f\"Из них уже были в train: {len(overlap_users):,}\")\n",
    "print(f\"Доля покрытых пользователей: {round(len(overlap_users) / len(users_test) * 100, 2)}%\")"
   ]
  },
  {
   "cell_type": "code",
   "execution_count": null,
   "id": "c55bf9b9",
   "metadata": {},
   "outputs": [
    {
     "name": "stdout",
     "output_type": "stream",
     "text": [
      "Тест после фильтрации: 51,938 строк, 44,348 пользователей\n"
     ]
    }
   ],
   "source": [
    "# Оставим в тестовой выборке только тех юзеров, кто есть в train\n",
    "df_test = df_test[df_test[\"user_id\"].isin(users_train)].copy()\n",
    "print(f\"Тест после фильтрации: {len(df_test):,} строк, {df_test['user_id'].nunique():,} пользователей\")"
   ]
  },
  {
   "cell_type": "markdown",
   "id": "77e0149d",
   "metadata": {},
   "source": [
    "### Генерация негативных примеров для обучения модели\n",
    "\n",
    "В исходных данных `train` представлены только **позитивные взаимодействия**: пользователи оставили отзывы на товары, что означает факт взаимодействия или покупки. Однако, для обучения модели ранжирования нам необходимы также **негативные примеры** — товары, с которыми пользователь **не взаимодействовал**.\n",
    "\n",
    "#### Что делаем:\n",
    "\n",
    "- Для каждого положительного примера (`user_id`, `item_id`, `label=1`) мы сгенерируем 1 негативный пример (`user_id`, `item_id`, `label=0`)\n",
    "- Негативный товар выбирается **случайным образом** из числа тех, с которыми пользователь **не взаимодействовал** в `train`\n",
    "- Мы формируем итоговую обучающую выборку с бинарной меткой `label ∈ {0, 1}`\n",
    "\n",
    "#### Ограничения:\n",
    "\n",
    "- Негативные товары отбираются **только из тех, которые присутствуют в `train`**\n",
    "- Мы исключаем из выборки те пары, которые могли бы быть положительными (по известным взаимодействиям)\n",
    "\n",
    "#### Результат:\n",
    "\n",
    "- Обучающая выборка сбалансирована (`1:1 sampling`)\n",
    "- Можно использовать в классификаторе (CatBoost) или для расчёта вероятностей `predict_proba - ранжирование`\n",
    "- Данные готовы к дальнейшей джойну с мета-информацией\n",
    "\n"
   ]
  },
  {
   "cell_type": "code",
   "execution_count": null,
   "id": "7352db8f",
   "metadata": {},
   "outputs": [],
   "source": [
    "import random\n",
    "from tqdm import tqdm\n",
    "import sys\n",
    "import os\n",
    "\n",
    "\n",
    "disable_tqdm = os.getenv(\"TQDM_DISABLE\", \"0\") == \"1\""
   ]
  },
  {
   "cell_type": "code",
   "execution_count": 11,
   "id": "1720c029",
   "metadata": {},
   "outputs": [],
   "source": [
    "# Все уникальные товары из train\n",
    "all_items = df_train[\"item_id\"].unique().tolist()"
   ]
  },
  {
   "cell_type": "code",
   "execution_count": null,
   "id": "7f554b45",
   "metadata": {},
   "outputs": [],
   "source": [
    "# Построим маппинг: user_id - set(item_id), с которыми он взаимодействовал\n",
    "user_pos_items = df_train.groupby(\"user_id\")[\"item_id\"].apply(set).to_dict()"
   ]
  },
  {
   "cell_type": "code",
   "execution_count": null,
   "id": "f19079ea",
   "metadata": {},
   "outputs": [],
   "source": [
    "# Список для хранения новых примеров сгенерированной\n",
    "# негативной выборки\n",
    "neg_samples = []"
   ]
  },
  {
   "cell_type": "code",
   "execution_count": null,
   "id": "ea481bb2",
   "metadata": {},
   "outputs": [
    {
     "name": "stderr",
     "output_type": "stream",
     "text": [
      "Генерация негативных примеров: 100%|██████████| 294160/294160 [00:00<00:00, 539936.02it/s]\n"
     ]
    }
   ],
   "source": [
    "# В цикле по каждому юзеру сгенерим негативные примеры\n",
    "for user, pos_items in tqdm(user_pos_items.items(), desc=\"Генерация негативных примеров\", file=sys.stdout):\n",
    "    for pos_item in pos_items:\n",
    "        while True:\n",
    "            neg_item = random.choice(all_items)\n",
    "            if neg_item not in pos_items:\n",
    "                neg_samples.append((user, neg_item, 0))  # негативка\n",
    "                break"
   ]
  },
  {
   "cell_type": "code",
   "execution_count": 15,
   "id": "38632b8c",
   "metadata": {},
   "outputs": [],
   "source": [
    "# Создаём датафрейм с негативами\n",
    "df_neg = pd.DataFrame(neg_samples, columns=[\"user_id\", \"item_id\", \"label\"])"
   ]
  },
  {
   "cell_type": "code",
   "execution_count": 16,
   "id": "43f33a7e",
   "metadata": {},
   "outputs": [],
   "source": [
    "# Позитивные примеры\n",
    "df_pos = df_train[[\"user_id\", \"item_id\"]].copy()\n",
    "df_pos[\"label\"] = 1"
   ]
  },
  {
   "cell_type": "code",
   "execution_count": 17,
   "id": "3aafc599",
   "metadata": {},
   "outputs": [],
   "source": [
    "# Финальный train dataset\n",
    "df_train_final = pd.concat([df_pos, df_neg], ignore_index=True)"
   ]
  },
  {
   "cell_type": "code",
   "execution_count": 18,
   "id": "0f317696",
   "metadata": {},
   "outputs": [
    {
     "data": {
      "text/html": [
       "<div>\n",
       "<style scoped>\n",
       "    .dataframe tbody tr th:only-of-type {\n",
       "        vertical-align: middle;\n",
       "    }\n",
       "\n",
       "    .dataframe tbody tr th {\n",
       "        vertical-align: top;\n",
       "    }\n",
       "\n",
       "    .dataframe thead th {\n",
       "        text-align: right;\n",
       "    }\n",
       "</style>\n",
       "<table border=\"1\" class=\"dataframe\">\n",
       "  <thead>\n",
       "    <tr style=\"text-align: right;\">\n",
       "      <th></th>\n",
       "      <th>user_id</th>\n",
       "      <th>item_id</th>\n",
       "      <th>label</th>\n",
       "    </tr>\n",
       "  </thead>\n",
       "  <tbody>\n",
       "    <tr>\n",
       "      <th>0</th>\n",
       "      <td>A353D8STHBQZKY</td>\n",
       "      <td>B0055MGVO2</td>\n",
       "      <td>1</td>\n",
       "    </tr>\n",
       "    <tr>\n",
       "      <th>1</th>\n",
       "      <td>A1XQ84TW915PLS</td>\n",
       "      <td>B00H4HKNA4</td>\n",
       "      <td>1</td>\n",
       "    </tr>\n",
       "    <tr>\n",
       "      <th>2</th>\n",
       "      <td>A1QU9S2PKRX8R0</td>\n",
       "      <td>B011397NIS</td>\n",
       "      <td>1</td>\n",
       "    </tr>\n",
       "    <tr>\n",
       "      <th>3</th>\n",
       "      <td>A1NUWNKPW2NGYD</td>\n",
       "      <td>B000H225TU</td>\n",
       "      <td>1</td>\n",
       "    </tr>\n",
       "    <tr>\n",
       "      <th>4</th>\n",
       "      <td>A1A7NBKZZQ4Q07</td>\n",
       "      <td>B000MT22QE</td>\n",
       "      <td>1</td>\n",
       "    </tr>\n",
       "  </tbody>\n",
       "</table>\n",
       "</div>"
      ],
      "text/plain": [
       "          user_id     item_id  label\n",
       "0  A353D8STHBQZKY  B0055MGVO2      1\n",
       "1  A1XQ84TW915PLS  B00H4HKNA4      1\n",
       "2  A1QU9S2PKRX8R0  B011397NIS      1\n",
       "3  A1NUWNKPW2NGYD  B000H225TU      1\n",
       "4  A1A7NBKZZQ4Q07  B000MT22QE      1"
      ]
     },
     "execution_count": 18,
     "metadata": {},
     "output_type": "execute_result"
    }
   ],
   "source": [
    "df_train_final.head()"
   ]
  },
  {
   "cell_type": "code",
   "execution_count": null,
   "id": "f9d0c58c",
   "metadata": {},
   "outputs": [],
   "source": [
    "# Подгрузим датасет со сгенерированными фичами товаров\n",
    "df_meta = pd.read_csv(\n",
    "    \"data/amazon_meta_clean.csv\",\n",
    "    na_values=[\"\"],  # исключаем \"Unknown\"\n",
    "    keep_default_na=False\n",
    ")"
   ]
  },
  {
   "cell_type": "code",
   "execution_count": 20,
   "id": "19a4e30f",
   "metadata": {},
   "outputs": [
    {
     "name": "stdout",
     "output_type": "stream",
     "text": [
      "Проверим пропуски после загрузки:\n",
      "brand            0\n",
      "category_main    0\n",
      "price_clean      0\n",
      "dtype: int64\n"
     ]
    }
   ],
   "source": [
    "print(\"Проверим пропуски после загрузки:\")\n",
    "print(df_meta[[\"brand\", \"category_main\", \"price_clean\"]].isna().sum())"
   ]
  },
  {
   "cell_type": "code",
   "execution_count": 21,
   "id": "4d8d1df0",
   "metadata": {},
   "outputs": [],
   "source": [
    "# Удаляем CLIP-фичи\n",
    "clip_cols = [col for col in df_meta.columns if col.startswith(\"clip_text_\") or col.startswith(\"clip_img_\")]\n",
    "df_meta = df_meta.drop(columns=clip_cols)"
   ]
  },
  {
   "cell_type": "code",
   "execution_count": 22,
   "id": "87f92ecb",
   "metadata": {},
   "outputs": [
    {
     "name": "stdout",
     "output_type": "stream",
     "text": [
      "(148948, 112)\n"
     ]
    },
    {
     "data": {
      "text/html": [
       "<div>\n",
       "<style scoped>\n",
       "    .dataframe tbody tr th:only-of-type {\n",
       "        vertical-align: middle;\n",
       "    }\n",
       "\n",
       "    .dataframe tbody tr th {\n",
       "        vertical-align: top;\n",
       "    }\n",
       "\n",
       "    .dataframe thead th {\n",
       "        text-align: right;\n",
       "    }\n",
       "</style>\n",
       "<table border=\"1\" class=\"dataframe\">\n",
       "  <thead>\n",
       "    <tr style=\"text-align: right;\">\n",
       "      <th></th>\n",
       "      <th>asin</th>\n",
       "      <th>title_len</th>\n",
       "      <th>title_has_digit</th>\n",
       "      <th>description_text_len</th>\n",
       "      <th>text_full</th>\n",
       "      <th>brand</th>\n",
       "      <th>is_top20_brand</th>\n",
       "      <th>price_clean</th>\n",
       "      <th>has_price</th>\n",
       "      <th>category_main</th>\n",
       "      <th>...</th>\n",
       "      <th>tfidf_91</th>\n",
       "      <th>tfidf_92</th>\n",
       "      <th>tfidf_93</th>\n",
       "      <th>tfidf_94</th>\n",
       "      <th>tfidf_95</th>\n",
       "      <th>tfidf_96</th>\n",
       "      <th>tfidf_97</th>\n",
       "      <th>tfidf_98</th>\n",
       "      <th>tfidf_99</th>\n",
       "      <th>tfidf_100</th>\n",
       "    </tr>\n",
       "  </thead>\n",
       "  <tbody>\n",
       "    <tr>\n",
       "      <th>0</th>\n",
       "      <td>0853347867</td>\n",
       "      <td>-1.251232</td>\n",
       "      <td>0</td>\n",
       "      <td>-0.631098</td>\n",
       "      <td>Trim Healthy Mama Xylitol. Shipped from UK, pl...</td>\n",
       "      <td>Unknown</td>\n",
       "      <td>1</td>\n",
       "      <td>-0.518064</td>\n",
       "      <td>0</td>\n",
       "      <td>Cooking &amp; Baking</td>\n",
       "      <td>...</td>\n",
       "      <td>1.099800</td>\n",
       "      <td>0.677096</td>\n",
       "      <td>1.538071</td>\n",
       "      <td>-0.064891</td>\n",
       "      <td>-0.611596</td>\n",
       "      <td>2.097358</td>\n",
       "      <td>-1.535881</td>\n",
       "      <td>-0.427645</td>\n",
       "      <td>1.433121</td>\n",
       "      <td>0.793126</td>\n",
       "    </tr>\n",
       "    <tr>\n",
       "      <th>1</th>\n",
       "      <td>4639725043</td>\n",
       "      <td>-0.735001</td>\n",
       "      <td>1</td>\n",
       "      <td>-0.426547</td>\n",
       "      <td>Lipton Yellow Label Tea (loose tea) - 450g. Li...</td>\n",
       "      <td>Lipton</td>\n",
       "      <td>0</td>\n",
       "      <td>0.061373</td>\n",
       "      <td>1</td>\n",
       "      <td>Beverages</td>\n",
       "      <td>...</td>\n",
       "      <td>-0.016708</td>\n",
       "      <td>0.899488</td>\n",
       "      <td>-0.328298</td>\n",
       "      <td>1.685778</td>\n",
       "      <td>0.418503</td>\n",
       "      <td>1.372579</td>\n",
       "      <td>-0.176657</td>\n",
       "      <td>-0.481735</td>\n",
       "      <td>-1.121662</td>\n",
       "      <td>0.877780</td>\n",
       "    </tr>\n",
       "  </tbody>\n",
       "</table>\n",
       "<p>2 rows × 112 columns</p>\n",
       "</div>"
      ],
      "text/plain": [
       "         asin  title_len  title_has_digit  description_text_len  \\\n",
       "0  0853347867  -1.251232                0             -0.631098   \n",
       "1  4639725043  -0.735001                1             -0.426547   \n",
       "\n",
       "                                           text_full    brand  is_top20_brand  \\\n",
       "0  Trim Healthy Mama Xylitol. Shipped from UK, pl...  Unknown               1   \n",
       "1  Lipton Yellow Label Tea (loose tea) - 450g. Li...   Lipton               0   \n",
       "\n",
       "   price_clean  has_price     category_main  ...  tfidf_91  tfidf_92  \\\n",
       "0    -0.518064          0  Cooking & Baking  ...  1.099800  0.677096   \n",
       "1     0.061373          1         Beverages  ... -0.016708  0.899488   \n",
       "\n",
       "   tfidf_93  tfidf_94  tfidf_95  tfidf_96  tfidf_97  tfidf_98  tfidf_99  \\\n",
       "0  1.538071 -0.064891 -0.611596  2.097358 -1.535881 -0.427645  1.433121   \n",
       "1 -0.328298  1.685778  0.418503  1.372579 -0.176657 -0.481735 -1.121662   \n",
       "\n",
       "   tfidf_100  \n",
       "0   0.793126  \n",
       "1   0.877780  \n",
       "\n",
       "[2 rows x 112 columns]"
      ]
     },
     "execution_count": 22,
     "metadata": {},
     "output_type": "execute_result"
    }
   ],
   "source": [
    "print(df_meta.shape)\n",
    "df_meta.head(2)"
   ]
  },
  {
   "cell_type": "code",
   "execution_count": null,
   "id": "b94f4c24",
   "metadata": {},
   "outputs": [
    {
     "name": "stdout",
     "output_type": "stream",
     "text": [
      "True\n",
      "True\n"
     ]
    }
   ],
   "source": [
    "# Проверим, что названия колонок совпадают\n",
    "print(\"asin\" in df_meta.columns)\n",
    "print(\"item_id\" in df_train_final.columns)"
   ]
  },
  {
   "cell_type": "code",
   "execution_count": null,
   "id": "1bc97609",
   "metadata": {},
   "outputs": [],
   "source": [
    "# Переименуем asin в item_id\n",
    "df_meta.rename(columns={\"asin\": \"item_id\"}, inplace=True)"
   ]
  },
  {
   "cell_type": "markdown",
   "id": "09a9b25b",
   "metadata": {},
   "source": [
    "### Для baseline 0"
   ]
  },
  {
   "cell_type": "code",
   "execution_count": null,
   "id": "318c898f",
   "metadata": {},
   "outputs": [],
   "source": [
    "# Мерджим трейн с фичами товаров\n",
    "df_train_merged = df_train_final.merge(\n",
    "    df_meta,\n",
    "    on=\"item_id\",\n",
    "    how=\"left\" # сохраняем все примеры, даже если нет мета-данных\n",
    ")"
   ]
  },
  {
   "cell_type": "code",
   "execution_count": 26,
   "id": "1b7ac376",
   "metadata": {},
   "outputs": [
    {
     "name": "stdout",
     "output_type": "stream",
     "text": [
      "(1190803, 114)\n",
      "label\n",
      "1    608892\n",
      "0    581911\n",
      "Name: count, dtype: int64\n",
      "Доля строк с отсутствующей мета-информацией: user_id            0.000\n",
      "item_id            0.000\n",
      "label              0.000\n",
      "title_len          0.195\n",
      "title_has_digit    0.195\n",
      "                   ...  \n",
      "tfidf_96           0.195\n",
      "tfidf_97           0.195\n",
      "tfidf_98           0.195\n",
      "tfidf_99           0.195\n",
      "tfidf_100          0.195\n",
      "Length: 114, dtype: float64\n"
     ]
    }
   ],
   "source": [
    "print(df_train_merged.shape)\n",
    "print(df_train_merged[\"label\"].value_counts())\n",
    "print(\"Доля строк с отсутствующей мета-информацией:\", df_train_merged.isna().mean().round(3))"
   ]
  },
  {
   "cell_type": "code",
   "execution_count": null,
   "id": "77241dcb",
   "metadata": {},
   "outputs": [
    {
     "name": "stdout",
     "output_type": "stream",
     "text": [
      "После удаления строк без критичных признаков: 958,963 строк\n"
     ]
    }
   ],
   "source": [
    "# Отфильтруем данные с пропусками в нижеупомянутых полях\n",
    "required_fields = [\"text_full\", \"image_main\", \"brand\"]\n",
    "\n",
    "df_train_clean = df_train_merged.dropna(subset=required_fields).copy()\n",
    "print(f\"После удаления строк без критичных признаков: {len(df_train_clean):,} строк\")"
   ]
  },
  {
   "cell_type": "code",
   "execution_count": 28,
   "id": "94d0853b",
   "metadata": {},
   "outputs": [],
   "source": [
    "# Создадим ground truth - словарь, где:\n",
    "# ключ — user_id\n",
    "# значение — множество товаров, с которыми он взаимодействовал в test\n",
    "ground_truth = df_test.groupby(\"user_id\")[\"item_id\"].apply(set).to_dict()"
   ]
  },
  {
   "cell_type": "markdown",
   "id": "1866ff03",
   "metadata": {},
   "source": [
    "### Ground truth и offline-оценка рекомендательной системы\n",
    "\n",
    "После формирования обучающей выборки (`df_train_final`) и обучения модели мы хотим проверить, насколько качественно она ранжирует товары для каждого пользователя.\n",
    "\n",
    "Для этого мы используем `test`-датасет, собранный **по временной отсечке**. Он содержит **реальные взаимодействия**, которые произошли после `train`-периода. Такие взаимодействия мы считаем \"золотым стандартом\" — **ground truth**.\n",
    "\n",
    "#### Что мы делаем:\n",
    "\n",
    "- Сгруппируем `df_test` по пользователю и сохраним все `item_id`, с которыми он взаимодействовал\n",
    "- Для каждого `user_id` модель будет генерировать top-k рекомендаций\n",
    "- Мы сравним рекомендации модели с тем, что действительно произошло\n"
   ]
  },
  {
   "cell_type": "code",
   "execution_count": 29,
   "id": "1dd1c14c",
   "metadata": {},
   "outputs": [
    {
     "data": {
      "text/html": [
       "<div>\n",
       "<style scoped>\n",
       "    .dataframe tbody tr th:only-of-type {\n",
       "        vertical-align: middle;\n",
       "    }\n",
       "\n",
       "    .dataframe tbody tr th {\n",
       "        vertical-align: top;\n",
       "    }\n",
       "\n",
       "    .dataframe thead th {\n",
       "        text-align: right;\n",
       "    }\n",
       "</style>\n",
       "<table border=\"1\" class=\"dataframe\">\n",
       "  <thead>\n",
       "    <tr style=\"text-align: right;\">\n",
       "      <th></th>\n",
       "      <th>user_id</th>\n",
       "      <th>item_id</th>\n",
       "      <th>label</th>\n",
       "      <th>title_len</th>\n",
       "      <th>title_has_digit</th>\n",
       "      <th>description_text_len</th>\n",
       "      <th>text_full</th>\n",
       "      <th>brand</th>\n",
       "      <th>is_top20_brand</th>\n",
       "      <th>price_clean</th>\n",
       "      <th>...</th>\n",
       "      <th>tfidf_91</th>\n",
       "      <th>tfidf_92</th>\n",
       "      <th>tfidf_93</th>\n",
       "      <th>tfidf_94</th>\n",
       "      <th>tfidf_95</th>\n",
       "      <th>tfidf_96</th>\n",
       "      <th>tfidf_97</th>\n",
       "      <th>tfidf_98</th>\n",
       "      <th>tfidf_99</th>\n",
       "      <th>tfidf_100</th>\n",
       "    </tr>\n",
       "  </thead>\n",
       "  <tbody>\n",
       "    <tr>\n",
       "      <th>0</th>\n",
       "      <td>A353D8STHBQZKY</td>\n",
       "      <td>B0055MGVO2</td>\n",
       "      <td>1</td>\n",
       "      <td>1.208457</td>\n",
       "      <td>1.0</td>\n",
       "      <td>0.465168</td>\n",
       "      <td>Crystal Light Drink Mix, Decaf Lemon Iced Tea,...</td>\n",
       "      <td>Crystal Light</td>\n",
       "      <td>0.0</td>\n",
       "      <td>0.861651</td>\n",
       "      <td>...</td>\n",
       "      <td>-0.471058</td>\n",
       "      <td>3.841364</td>\n",
       "      <td>2.462334</td>\n",
       "      <td>-0.442178</td>\n",
       "      <td>3.08271</td>\n",
       "      <td>-3.350286</td>\n",
       "      <td>1.085773</td>\n",
       "      <td>3.615367</td>\n",
       "      <td>2.13126</td>\n",
       "      <td>-1.428875</td>\n",
       "    </tr>\n",
       "  </tbody>\n",
       "</table>\n",
       "<p>1 rows × 114 columns</p>\n",
       "</div>"
      ],
      "text/plain": [
       "          user_id     item_id  label  title_len  title_has_digit  \\\n",
       "0  A353D8STHBQZKY  B0055MGVO2      1   1.208457              1.0   \n",
       "\n",
       "   description_text_len                                          text_full  \\\n",
       "0              0.465168  Crystal Light Drink Mix, Decaf Lemon Iced Tea,...   \n",
       "\n",
       "           brand  is_top20_brand  price_clean  ...  tfidf_91  tfidf_92  \\\n",
       "0  Crystal Light             0.0     0.861651  ... -0.471058  3.841364   \n",
       "\n",
       "   tfidf_93  tfidf_94  tfidf_95  tfidf_96  tfidf_97  tfidf_98  tfidf_99  \\\n",
       "0  2.462334 -0.442178   3.08271 -3.350286  1.085773  3.615367   2.13126   \n",
       "\n",
       "   tfidf_100  \n",
       "0  -1.428875  \n",
       "\n",
       "[1 rows x 114 columns]"
      ]
     },
     "execution_count": 29,
     "metadata": {},
     "output_type": "execute_result"
    }
   ],
   "source": [
    "df_train_clean.head(1)"
   ]
  },
  {
   "cell_type": "code",
   "execution_count": null,
   "id": "f176e946",
   "metadata": {},
   "outputs": [],
   "source": [
    "# Сохраняем данные\n",
    "\n",
    "# Тренировочная выборка с мета-признаками\n",
    "df_train_clean.to_csv(\"data/df_train_baseline_0_n_pair.csv\", index=False)\n",
    "\n",
    "# Тест как лог взаимодействий (без товарных фичей, без негативов)\n",
    "# ground_truth можно будет пересчитать по df_test в следующем ноутбуке\n",
    "df_test.to_csv(\"data/df_test_ground_truth_n_pair.csv\", index=False)"
   ]
  },
  {
   "cell_type": "markdown",
   "id": "d7bda10d",
   "metadata": {},
   "source": [
    "### baseline 1"
   ]
  },
  {
   "cell_type": "code",
   "execution_count": 31,
   "id": "34245993",
   "metadata": {},
   "outputs": [],
   "source": [
    "# Загружаем мета-датасет с уже готовыми tfidf_фичами\n",
    "df_meta_tfidf = pd.read_csv(\n",
    "    \"data/amazon_meta_clean.csv\",\n",
    "    na_values=[\"\"],\n",
    "    keep_default_na=False\n",
    ")"
   ]
  },
  {
   "cell_type": "code",
   "execution_count": null,
   "id": "ea27a83e",
   "metadata": {},
   "outputs": [],
   "source": [
    "# Переименуем asin в item_id\n",
    "df_meta_tfidf.rename(columns={\"asin\": \"item_id\"}, inplace=True)"
   ]
  },
  {
   "cell_type": "code",
   "execution_count": 33,
   "id": "1cf0594f",
   "metadata": {},
   "outputs": [],
   "source": [
    "# Удалим clip-эмбеддинги (они здесь не нужны)\n",
    "clip_cols = [col for col in df_meta_tfidf.columns if col.startswith(\"clip_text_\") or col.startswith(\"clip_img_\")]\n",
    "df_meta_tfidf = df_meta_tfidf.drop(columns=clip_cols)"
   ]
  },
  {
   "cell_type": "code",
   "execution_count": null,
   "id": "2821c108",
   "metadata": {},
   "outputs": [],
   "source": [
    "# Мерджим трейн с фичами товаров после tf-idf\n",
    "# для baseline 1\n",
    "df_train_merged = df_train_final.merge(\n",
    "    df_meta_tfidf,\n",
    "    on=\"item_id\",\n",
    "    how=\"left\"\n",
    ")"
   ]
  },
  {
   "cell_type": "code",
   "execution_count": 35,
   "id": "1219b55d",
   "metadata": {},
   "outputs": [
    {
     "name": "stdout",
     "output_type": "stream",
     "text": [
      "(1190803, 114)\n",
      "label\n",
      "1    608892\n",
      "0    581911\n",
      "Name: count, dtype: int64\n",
      "Доля строк с отсутствующей мета-информацией: user_id            0.000\n",
      "item_id            0.000\n",
      "label              0.000\n",
      "title_len          0.195\n",
      "title_has_digit    0.195\n",
      "                   ...  \n",
      "tfidf_96           0.195\n",
      "tfidf_97           0.195\n",
      "tfidf_98           0.195\n",
      "tfidf_99           0.195\n",
      "tfidf_100          0.195\n",
      "Length: 114, dtype: float64\n"
     ]
    }
   ],
   "source": [
    "print(df_train_merged.shape)\n",
    "print(df_train_merged[\"label\"].value_counts())\n",
    "print(\"Доля строк с отсутствующей мета-информацией:\", df_train_merged.isna().mean().round(3))"
   ]
  },
  {
   "cell_type": "code",
   "execution_count": null,
   "id": "8fe0cd32",
   "metadata": {},
   "outputs": [
    {
     "name": "stdout",
     "output_type": "stream",
     "text": [
      "После удаления строк без критичных признаков: 958,963 строк\n"
     ]
    }
   ],
   "source": [
    "# Отфильтруем данные с пропусками в нижеупомянутых полях\n",
    "required_fields = [\"text_full\", \"image_main\", \"brand\"]\n",
    "\n",
    "df_train_clean = df_train_merged.dropna(subset=required_fields).copy()\n",
    "print(f\"После удаления строк без критичных признаков: {len(df_train_clean):,} строк\")"
   ]
  },
  {
   "cell_type": "code",
   "execution_count": null,
   "id": "45998a19",
   "metadata": {},
   "outputs": [],
   "source": [
    "# Удалим уже не нужные поля text_full и image_main\n",
    "df_train_clean.drop(columns=[\"text_full\", \"image_main\"], inplace=True)"
   ]
  },
  {
   "cell_type": "code",
   "execution_count": null,
   "id": "c923c937",
   "metadata": {},
   "outputs": [
    {
     "data": {
      "text/plain": [
       "['user_id',\n",
       " 'item_id',\n",
       " 'label',\n",
       " 'title_len',\n",
       " 'title_has_digit',\n",
       " 'description_text_len',\n",
       " 'brand',\n",
       " 'is_top20_brand',\n",
       " 'price_clean',\n",
       " 'has_price',\n",
       " 'category_main',\n",
       " 'is_top9_category_main',\n",
       " 'tfidf_1',\n",
       " 'tfidf_2',\n",
       " 'tfidf_3',\n",
       " 'tfidf_4',\n",
       " 'tfidf_5',\n",
       " 'tfidf_6',\n",
       " 'tfidf_7',\n",
       " 'tfidf_8',\n",
       " 'tfidf_9',\n",
       " 'tfidf_10',\n",
       " 'tfidf_11',\n",
       " 'tfidf_12',\n",
       " 'tfidf_13',\n",
       " 'tfidf_14',\n",
       " 'tfidf_15',\n",
       " 'tfidf_16',\n",
       " 'tfidf_17',\n",
       " 'tfidf_18',\n",
       " 'tfidf_19',\n",
       " 'tfidf_20',\n",
       " 'tfidf_21',\n",
       " 'tfidf_22',\n",
       " 'tfidf_23',\n",
       " 'tfidf_24',\n",
       " 'tfidf_25',\n",
       " 'tfidf_26',\n",
       " 'tfidf_27',\n",
       " 'tfidf_28',\n",
       " 'tfidf_29',\n",
       " 'tfidf_30',\n",
       " 'tfidf_31',\n",
       " 'tfidf_32',\n",
       " 'tfidf_33',\n",
       " 'tfidf_34',\n",
       " 'tfidf_35',\n",
       " 'tfidf_36',\n",
       " 'tfidf_37',\n",
       " 'tfidf_38',\n",
       " 'tfidf_39',\n",
       " 'tfidf_40',\n",
       " 'tfidf_41',\n",
       " 'tfidf_42',\n",
       " 'tfidf_43',\n",
       " 'tfidf_44',\n",
       " 'tfidf_45',\n",
       " 'tfidf_46',\n",
       " 'tfidf_47',\n",
       " 'tfidf_48',\n",
       " 'tfidf_49',\n",
       " 'tfidf_50',\n",
       " 'tfidf_51',\n",
       " 'tfidf_52',\n",
       " 'tfidf_53',\n",
       " 'tfidf_54',\n",
       " 'tfidf_55',\n",
       " 'tfidf_56',\n",
       " 'tfidf_57',\n",
       " 'tfidf_58',\n",
       " 'tfidf_59',\n",
       " 'tfidf_60',\n",
       " 'tfidf_61',\n",
       " 'tfidf_62',\n",
       " 'tfidf_63',\n",
       " 'tfidf_64',\n",
       " 'tfidf_65',\n",
       " 'tfidf_66',\n",
       " 'tfidf_67',\n",
       " 'tfidf_68',\n",
       " 'tfidf_69',\n",
       " 'tfidf_70',\n",
       " 'tfidf_71',\n",
       " 'tfidf_72',\n",
       " 'tfidf_73',\n",
       " 'tfidf_74',\n",
       " 'tfidf_75',\n",
       " 'tfidf_76',\n",
       " 'tfidf_77',\n",
       " 'tfidf_78',\n",
       " 'tfidf_79',\n",
       " 'tfidf_80',\n",
       " 'tfidf_81',\n",
       " 'tfidf_82',\n",
       " 'tfidf_83',\n",
       " 'tfidf_84',\n",
       " 'tfidf_85',\n",
       " 'tfidf_86',\n",
       " 'tfidf_87',\n",
       " 'tfidf_88',\n",
       " 'tfidf_89',\n",
       " 'tfidf_90',\n",
       " 'tfidf_91',\n",
       " 'tfidf_92',\n",
       " 'tfidf_93',\n",
       " 'tfidf_94',\n",
       " 'tfidf_95',\n",
       " 'tfidf_96',\n",
       " 'tfidf_97',\n",
       " 'tfidf_98',\n",
       " 'tfidf_99',\n",
       " 'tfidf_100']"
      ]
     },
     "execution_count": 38,
     "metadata": {},
     "output_type": "execute_result"
    }
   ],
   "source": [
    "# Выведем итоговый список полей\n",
    "df_train_clean.columns.tolist()"
   ]
  },
  {
   "cell_type": "code",
   "execution_count": null,
   "id": "dee3f246",
   "metadata": {},
   "outputs": [],
   "source": [
    "# Вторая тренировочная выборка для baseline 1\n",
    "# с признаками товаров после tf-idf\n",
    "df_train_clean.to_csv(\"data/df_train_baseline_1_n_pair.csv\", index=False)"
   ]
  },
  {
   "cell_type": "markdown",
   "id": "c842df85",
   "metadata": {},
   "source": [
    "### CLIP-эмбеддинги (готовые)"
   ]
  },
  {
   "cell_type": "code",
   "execution_count": 40,
   "id": "b1697ab9",
   "metadata": {},
   "outputs": [],
   "source": [
    "# Подгружаем эмбеддинги и мета-фичи\n",
    "df_meta_clip = pd.read_csv(\n",
    "    \"data/amazon_meta_clean.csv\",\n",
    "    na_values=[\"\"],\n",
    "    keep_default_na=False\n",
    ")"
   ]
  },
  {
   "cell_type": "code",
   "execution_count": null,
   "id": "99357bdc",
   "metadata": {},
   "outputs": [],
   "source": [
    "# Переименуем asin в item_id\n",
    "df_meta_clip.rename(columns={\"asin\": \"item_id\"}, inplace=True)"
   ]
  },
  {
   "cell_type": "code",
   "execution_count": 42,
   "id": "4082cdda",
   "metadata": {},
   "outputs": [],
   "source": [
    "# Удалим tfidf-фичи (они здесь не нужны)\n",
    "tfidf_cols = [col for col in df_meta_clip.columns if col.startswith(\"tfidf_\")]\n",
    "df_meta_clip = df_meta_clip.drop(columns=tfidf_cols)"
   ]
  },
  {
   "cell_type": "code",
   "execution_count": null,
   "id": "9c91f228",
   "metadata": {},
   "outputs": [],
   "source": [
    "# Мерджим трейн с фичами товаров после CLIP-энкодера\n",
    "# для мэтчинговой модели\n",
    "df_train_merged_clip = df_train_final.merge(\n",
    "    df_meta_clip,\n",
    "    on=\"item_id\",\n",
    "    how=\"left\"\n",
    ")"
   ]
  },
  {
   "cell_type": "code",
   "execution_count": null,
   "id": "0d46ab78",
   "metadata": {},
   "outputs": [
    {
     "name": "stdout",
     "output_type": "stream",
     "text": [
      "После удаления строк без критичных признаков: 958,963 строк\n"
     ]
    }
   ],
   "source": [
    "# Отфильтруем данные с пропусками в нижеупомянутых полях\n",
    "required_fields = [\"text_full\", \"image_main\", \"brand\"]\n",
    "df_train_clip_clean = df_train_merged_clip.dropna(subset=required_fields).copy()\n",
    "print(f\"После удаления строк без критичных признаков: {len(df_train_clip_clean):,} строк\")"
   ]
  },
  {
   "cell_type": "code",
   "execution_count": 45,
   "id": "c59922c6",
   "metadata": {},
   "outputs": [],
   "source": [
    "# Удалим текст и картинки (они уже в эмбеддингах)\n",
    "df_train_clip_clean.drop(columns=[\"text_full\", \"image_main\"], inplace=True)"
   ]
  },
  {
   "cell_type": "code",
   "execution_count": 46,
   "id": "9e56dcea",
   "metadata": {},
   "outputs": [],
   "source": [
    "# Сохраняем CLIP-трейн\n",
    "df_train_clip_clean.to_csv(\"data/df_train_CLIP_n_pair.csv\", index=False)"
   ]
  },
  {
   "cell_type": "markdown",
   "id": "b1137b26",
   "metadata": {},
   "source": [
    "### Выводы и сохранение данных\n",
    "\n",
    "- Итоговые обучающие выборки (`df_train_baseline_0_n_pair.csv`, `df_train_baseline_1_n_pair.csv`, `df_train_CLIP_n_pair.csv`) содержат сбалансированные пары `(user, item)` с метками 0 и 1 (проставленных на основе n-pair подхода).\n",
    "- Тестовая выборка (`df_test_ground_truth_n_pair.csv`) представляет собой лог реальных взаимодействий за выбранный год, на основе которого будет построен `ground_truth` — словарь соответствия `user_id → set(item_id)`, используемый для оценки рекомендаций.\n",
    "\n",
    "Эти данные будут использоваться в ноутбуке с обучением и валидацией моделей.\n"
   ]
  }
 ],
 "metadata": {
  "kernelspec": {
   "display_name": "Python 3 (ipykernel)",
   "language": "python",
   "name": "python3"
  },
  "language_info": {
   "codemirror_mode": {
    "name": "ipython",
    "version": 3
   },
   "file_extension": ".py",
   "mimetype": "text/x-python",
   "name": "python",
   "nbconvert_exporter": "python",
   "pygments_lexer": "ipython3",
   "version": "3.12.4"
  }
 },
 "nbformat": 4,
 "nbformat_minor": 5
}
