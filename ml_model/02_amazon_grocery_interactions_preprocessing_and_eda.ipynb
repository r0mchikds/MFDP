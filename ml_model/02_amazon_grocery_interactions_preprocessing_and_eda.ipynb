{
 "cells": [
  {
   "cell_type": "markdown",
   "id": "ac64fb47",
   "metadata": {
    "papermill": {
     "duration": 0.0,
     "end_time": "2025-05-22T10:03:27.125217",
     "exception": false,
     "start_time": "2025-05-22T10:03:27.125217",
     "status": "completed"
    },
    "tags": []
   },
   "source": [
    "## Обработка взаимодействий пользователей с товарами\n",
    "\n",
    "В данном ноутбуке проводится предварительная обработка отзывов пользователей на продукты из категории *Grocery and Gourmet Food* (Amazon). Цель — подготовить чистый, сбалансированный и актуальный датасет взаимодействий, пригодный для построения рекомендательной системы.\n",
    "\n",
    "На выходе получается таблица взаимодействий `amazon_interactions_filtered.csv`, очищенная и суженная до релевантных пользователей, товаров и временного периода.\n"
   ]
  },
  {
   "cell_type": "code",
   "execution_count": 1,
   "id": "bc3bd1b4",
   "metadata": {
    "execution": {
     "iopub.execute_input": "2025-05-22T10:03:27.125217Z",
     "iopub.status.busy": "2025-05-22T10:03:27.125217Z",
     "iopub.status.idle": "2025-05-22T10:03:29.056351Z",
     "shell.execute_reply": "2025-05-22T10:03:29.056351Z"
    },
    "papermill": {
     "duration": 1.931134,
     "end_time": "2025-05-22T10:03:29.056351",
     "exception": false,
     "start_time": "2025-05-22T10:03:27.125217",
     "status": "completed"
    },
    "tags": []
   },
   "outputs": [],
   "source": [
    "# Импорт необходимых библиотек для анализа, визуализации и загрузки данных\n",
    "import gzip\n",
    "import json\n",
    "import pandas as pd\n",
    "import seaborn as sns\n",
    "import matplotlib.pyplot as plt\n",
    "import datetime"
   ]
  },
  {
   "cell_type": "markdown",
   "id": "d092d5eb",
   "metadata": {
    "papermill": {
     "duration": 0.0,
     "end_time": "2025-05-22T10:03:29.056351",
     "exception": false,
     "start_time": "2025-05-22T10:03:29.056351",
     "status": "completed"
    },
    "tags": []
   },
   "source": [
    "### Почему можно использовать отзывы как основу для рекомендательной модели\n",
    "\n",
    "В нашем проекте мы используем Amazon Grocery Review Dataset, в котором представлены пользовательские отзывы на товары (в том числе оценка, дата и ID товара). Хотя в нём **не указаны покупки напрямую**, он остаётся валидным источником взаимодействий для построения рекомендательной системы.\n",
    "\n",
    "---\n",
    "\n",
    "#### Отзыв = подтверждённое взаимодействие\n",
    "\n",
    "- Пользователь **оставил отзыв с оценкой (1–5)** — это сильный сигнал вовлечённости\n",
    "- В большинстве случаев отзыв означает, что товар был:\n",
    "  - куплен,\n",
    "  - получен,\n",
    "  - опробован,\n",
    "  - и оценён\n",
    "- Особенно достоверны **отзывы с флагом `verified = True`** — они привязаны к реальным покупкам\n",
    "\n",
    "---\n",
    "\n",
    "#### Отзывы ≈ proxy для implicit feedback\n",
    "\n",
    "Хотя мы не видим сам факт покупки, **само наличие отзыва уже подтверждает \"интерес\"**.  \n",
    "А это — основа implicit моделей, где взаимодействие — это:\n",
    "\n",
    "- просмотр, клик, добавление в корзину\n",
    "- **и особенно — покупка или отзыв**\n",
    "\n",
    "В рекомендательных системах (в том числе на продакшене Amazon) **отзывы активно используются**, например:\n",
    "\n",
    "- Neural Collaborative Filtering (He et al., 2017)\n",
    "- SASRec, BERT4Rec\n",
    "- RecSys-чемпионаты и исследования\n",
    "\n",
    "---\n",
    "\n",
    "#### Почему хватает самих отзывов\n",
    "\n",
    "- Даже если пользователь не оставляет отзыв на каждый товар, **отзывов всё равно достаточно**, чтобы:\n",
    "  - построить его профиль интересов\n",
    "  - рассчитать эмбеддинги товаров\n",
    "  - применить `Precision@K`, `MAP@K` для валидации\n",
    "\n",
    "- **Фильтрация по активности** (например, ≥2 отзыва) позволяет работать только с теми пользователями, у кого есть достаточная история\n",
    "\n",
    "---\n",
    "\n",
    "Вывод: **отзывы — это валидный, широко используемый источник взаимодействий**, на основе которого можно обучить рекомендательную систему ранжирования и качественно её валидировать.\n"
   ]
  },
  {
   "cell_type": "code",
   "execution_count": 2,
   "id": "337a0c87",
   "metadata": {
    "execution": {
     "iopub.execute_input": "2025-05-22T10:03:29.056351Z",
     "iopub.status.busy": "2025-05-22T10:03:29.056351Z",
     "iopub.status.idle": "2025-05-22T10:03:29.074059Z",
     "shell.execute_reply": "2025-05-22T10:03:29.074059Z"
    },
    "papermill": {
     "duration": 0.017708,
     "end_time": "2025-05-22T10:03:29.074059",
     "exception": false,
     "start_time": "2025-05-22T10:03:29.056351",
     "status": "completed"
    },
    "tags": []
   },
   "outputs": [],
   "source": [
    "# Функция для чтения JSONL-структуры из gzip-файла \n",
    "# и преобразования в DataFrame\n",
    "def load_amazon_inter(path, limit=None):\n",
    "    data = []\n",
    "    with gzip.open(path, \"rt\", encoding=\"utf-8\") as f:\n",
    "        for i, line in enumerate(f):\n",
    "            data.append(json.loads(line))\n",
    "            if limit and i + 1 >= limit:\n",
    "                break\n",
    "    return pd.DataFrame(data)"
   ]
  },
  {
   "cell_type": "code",
   "execution_count": 3,
   "id": "db130c42",
   "metadata": {
    "execution": {
     "iopub.execute_input": "2025-05-22T10:03:29.074059Z",
     "iopub.status.busy": "2025-05-22T10:03:29.074059Z",
     "iopub.status.idle": "2025-05-22T10:04:11.083823Z",
     "shell.execute_reply": "2025-05-22T10:04:11.083823Z"
    },
    "papermill": {
     "duration": 42.009764,
     "end_time": "2025-05-22T10:04:11.083823",
     "exception": false,
     "start_time": "2025-05-22T10:03:29.074059",
     "status": "completed"
    },
    "tags": []
   },
   "outputs": [],
   "source": [
    "# Указываем путь к исходному файлу с отзывами\n",
    "path = \"data/Grocery_and_Gourmet_Food.json.gz\"\n",
    "df = load_amazon_inter(path)"
   ]
  },
  {
   "cell_type": "markdown",
   "id": "5f0ce4e1",
   "metadata": {
    "papermill": {
     "duration": 0.0,
     "end_time": "2025-05-22T10:04:11.083823",
     "exception": false,
     "start_time": "2025-05-22T10:04:11.083823",
     "status": "completed"
    },
    "tags": []
   },
   "source": [
    "## Описание данных в Grocery and Gourmet Food\n",
    "`overall` — оценка товара по шкале от 1 до 5 (звёзд);  \n",
    "`reviewTime` — дата отзыва в текстовом формате (например, \"06 4, 2013\");  \n",
    "`reviewerID` — уникальный идентификатор пользователя;  \n",
    "`asin` — уникальный идентификатор товара (Amazon Standard Identification Number);  \n",
    "`reviewerName` — имя пользователя (может отсутствовать);  \n",
    "`reviewText` — основной текст отзыва;  \n",
    "`summary` — краткое резюме (заголовок) отзыва;  \n",
    "`unixReviewTime` — временная метка отзыва в формате UNIX (кол-во секунд с 01.01.1970);  \n",
    "`vote` — количество голосов за полезность отзыва (часто отсутствует);  \n",
    "`image` — список URL-адресов изображений, прикреплённых к отзыву (если есть);  \n",
    "`style` — словарь с дополнительными характеристиками товара (например, цвет, размер — часто пустой).\n",
    "\n",
    "Для моделирования рекомендательной системы наиболее важны:\n",
    "- `reviewerID`, `asin`, `unixReviewTime`, `overall`\n",
    "\n",
    "Остальные могут быть удалены или сохранены при необходимости."
   ]
  },
  {
   "cell_type": "code",
   "execution_count": 4,
   "id": "757872f0",
   "metadata": {
    "execution": {
     "iopub.execute_input": "2025-05-22T10:04:11.083823Z",
     "iopub.status.busy": "2025-05-22T10:04:11.083823Z",
     "iopub.status.idle": "2025-05-22T10:04:11.107922Z",
     "shell.execute_reply": "2025-05-22T10:04:11.107922Z"
    },
    "papermill": {
     "duration": 0.024099,
     "end_time": "2025-05-22T10:04:11.107922",
     "exception": false,
     "start_time": "2025-05-22T10:04:11.083823",
     "status": "completed"
    },
    "tags": []
   },
   "outputs": [
    {
     "name": "stdout",
     "output_type": "stream",
     "text": [
      "<class 'pandas.core.frame.DataFrame'>\n",
      "RangeIndex: 5074160 entries, 0 to 5074159\n",
      "Data columns (total 12 columns):\n",
      " #   Column          Dtype  \n",
      "---  ------          -----  \n",
      " 0   overall         float64\n",
      " 1   verified        bool   \n",
      " 2   reviewTime      object \n",
      " 3   reviewerID      object \n",
      " 4   asin            object \n",
      " 5   reviewerName    object \n",
      " 6   reviewText      object \n",
      " 7   summary         object \n",
      " 8   unixReviewTime  int64  \n",
      " 9   vote            object \n",
      " 10  image           object \n",
      " 11  style           object \n",
      "dtypes: bool(1), float64(1), int64(1), object(9)\n",
      "memory usage: 430.7+ MB\n"
     ]
    }
   ],
   "source": [
    "# Получаем информацию о количестве строк, типах столбцов\n",
    "df.info()"
   ]
  },
  {
   "cell_type": "code",
   "execution_count": 5,
   "id": "80299949",
   "metadata": {
    "execution": {
     "iopub.execute_input": "2025-05-22T10:04:11.107922Z",
     "iopub.status.busy": "2025-05-22T10:04:11.107922Z",
     "iopub.status.idle": "2025-05-22T10:04:11.127485Z",
     "shell.execute_reply": "2025-05-22T10:04:11.127485Z"
    },
    "papermill": {
     "duration": 0.019563,
     "end_time": "2025-05-22T10:04:11.127485",
     "exception": false,
     "start_time": "2025-05-22T10:04:11.107922",
     "status": "completed"
    },
    "tags": []
   },
   "outputs": [
    {
     "data": {
      "text/html": [
       "<div>\n",
       "<style scoped>\n",
       "    .dataframe tbody tr th:only-of-type {\n",
       "        vertical-align: middle;\n",
       "    }\n",
       "\n",
       "    .dataframe tbody tr th {\n",
       "        vertical-align: top;\n",
       "    }\n",
       "\n",
       "    .dataframe thead th {\n",
       "        text-align: right;\n",
       "    }\n",
       "</style>\n",
       "<table border=\"1\" class=\"dataframe\">\n",
       "  <thead>\n",
       "    <tr style=\"text-align: right;\">\n",
       "      <th></th>\n",
       "      <th>overall</th>\n",
       "      <th>verified</th>\n",
       "      <th>reviewTime</th>\n",
       "      <th>reviewerID</th>\n",
       "      <th>asin</th>\n",
       "      <th>reviewerName</th>\n",
       "      <th>reviewText</th>\n",
       "      <th>summary</th>\n",
       "      <th>unixReviewTime</th>\n",
       "      <th>vote</th>\n",
       "      <th>image</th>\n",
       "      <th>style</th>\n",
       "    </tr>\n",
       "  </thead>\n",
       "  <tbody>\n",
       "    <tr>\n",
       "      <th>0</th>\n",
       "      <td>5.0</td>\n",
       "      <td>True</td>\n",
       "      <td>06 4, 2013</td>\n",
       "      <td>ALP49FBWT4I7V</td>\n",
       "      <td>1888861614</td>\n",
       "      <td>Lori</td>\n",
       "      <td>Very pleased with my purchase. Looks exactly l...</td>\n",
       "      <td>Love it</td>\n",
       "      <td>1370304000</td>\n",
       "      <td>NaN</td>\n",
       "      <td>NaN</td>\n",
       "      <td>NaN</td>\n",
       "    </tr>\n",
       "    <tr>\n",
       "      <th>1</th>\n",
       "      <td>4.0</td>\n",
       "      <td>True</td>\n",
       "      <td>05 23, 2014</td>\n",
       "      <td>A1KPIZOCLB9FZ8</td>\n",
       "      <td>1888861614</td>\n",
       "      <td>BK Shopper</td>\n",
       "      <td>Very nicely crafted but too small. Am going to...</td>\n",
       "      <td>Nice but small</td>\n",
       "      <td>1400803200</td>\n",
       "      <td>NaN</td>\n",
       "      <td>NaN</td>\n",
       "      <td>NaN</td>\n",
       "    </tr>\n",
       "  </tbody>\n",
       "</table>\n",
       "</div>"
      ],
      "text/plain": [
       "   overall  verified   reviewTime      reviewerID        asin reviewerName  \\\n",
       "0      5.0      True   06 4, 2013   ALP49FBWT4I7V  1888861614         Lori   \n",
       "1      4.0      True  05 23, 2014  A1KPIZOCLB9FZ8  1888861614   BK Shopper   \n",
       "\n",
       "                                          reviewText         summary  \\\n",
       "0  Very pleased with my purchase. Looks exactly l...         Love it   \n",
       "1  Very nicely crafted but too small. Am going to...  Nice but small   \n",
       "\n",
       "   unixReviewTime vote image style  \n",
       "0      1370304000  NaN   NaN   NaN  \n",
       "1      1400803200  NaN   NaN   NaN  "
      ]
     },
     "execution_count": 5,
     "metadata": {},
     "output_type": "execute_result"
    }
   ],
   "source": [
    "df.head(2)"
   ]
  },
  {
   "cell_type": "code",
   "execution_count": 6,
   "id": "65481f5e",
   "metadata": {
    "execution": {
     "iopub.execute_input": "2025-05-22T10:04:11.127485Z",
     "iopub.status.busy": "2025-05-22T10:04:11.127485Z",
     "iopub.status.idle": "2025-05-22T10:04:11.351171Z",
     "shell.execute_reply": "2025-05-22T10:04:11.351171Z"
    },
    "papermill": {
     "duration": 0.223686,
     "end_time": "2025-05-22T10:04:11.351171",
     "exception": false,
     "start_time": "2025-05-22T10:04:11.127485",
     "status": "completed"
    },
    "tags": []
   },
   "outputs": [],
   "source": [
    "# Оставим только необходимые нам для модели и анализа столбцы\n",
    "df = df[[\"reviewerID\", \"asin\", \"unixReviewTime\", \"overall\"]]"
   ]
  },
  {
   "cell_type": "code",
   "execution_count": 7,
   "id": "d3db89fa",
   "metadata": {
    "execution": {
     "iopub.execute_input": "2025-05-22T10:04:11.351171Z",
     "iopub.status.busy": "2025-05-22T10:04:11.351171Z",
     "iopub.status.idle": "2025-05-22T10:04:11.363264Z",
     "shell.execute_reply": "2025-05-22T10:04:11.363264Z"
    },
    "papermill": {
     "duration": 0.012093,
     "end_time": "2025-05-22T10:04:11.363264",
     "exception": false,
     "start_time": "2025-05-22T10:04:11.351171",
     "status": "completed"
    },
    "tags": []
   },
   "outputs": [],
   "source": [
    "# Приводим имена колонок к единообразному виду\n",
    "df.rename(columns={\n",
    "    \"reviewerID\": \"user_id\",\n",
    "    \"asin\": \"item_id\",\n",
    "    \"unixReviewTime\": \"timestamp\",\n",
    "    \"overall\": \"rating\"\n",
    "}, inplace=True)"
   ]
  },
  {
   "cell_type": "code",
   "execution_count": 8,
   "id": "91bb23e2",
   "metadata": {
    "execution": {
     "iopub.execute_input": "2025-05-22T10:04:11.363264Z",
     "iopub.status.busy": "2025-05-22T10:04:11.363264Z",
     "iopub.status.idle": "2025-05-22T10:04:12.489103Z",
     "shell.execute_reply": "2025-05-22T10:04:12.489103Z"
    },
    "papermill": {
     "duration": 1.125839,
     "end_time": "2025-05-22T10:04:12.489103",
     "exception": false,
     "start_time": "2025-05-22T10:04:11.363264",
     "status": "completed"
    },
    "tags": []
   },
   "outputs": [
    {
     "name": "stdout",
     "output_type": "stream",
     "text": [
      "user_id      0\n",
      "item_id      0\n",
      "timestamp    0\n",
      "rating       0\n",
      "dtype: int64\n"
     ]
    }
   ],
   "source": [
    "# Проверим на пропуски\n",
    "print(df[[\"user_id\", \"item_id\", \"timestamp\", \"rating\"]].isna().sum())"
   ]
  },
  {
   "cell_type": "code",
   "execution_count": 9,
   "id": "5b9d3682",
   "metadata": {
    "execution": {
     "iopub.execute_input": "2025-05-22T10:04:12.489103Z",
     "iopub.status.busy": "2025-05-22T10:04:12.489103Z",
     "iopub.status.idle": "2025-05-22T10:04:15.966178Z",
     "shell.execute_reply": "2025-05-22T10:04:15.966178Z"
    },
    "papermill": {
     "duration": 3.478114,
     "end_time": "2025-05-22T10:04:15.967217",
     "exception": false,
     "start_time": "2025-05-22T10:04:12.489103",
     "status": "completed"
    },
    "tags": []
   },
   "outputs": [
    {
     "name": "stdout",
     "output_type": "stream",
     "text": [
      "user_id: пустых строк — 0\n"
     ]
    },
    {
     "name": "stdout",
     "output_type": "stream",
     "text": [
      "item_id: пустых строк — 0\n"
     ]
    }
   ],
   "source": [
    "# Проверяем, есть ли пустые строки (не NaN) в идентификаторах\n",
    "for col in [\"user_id\", \"item_id\"]:\n",
    "    n_empty = (df[col].str.strip() == \"\").sum()\n",
    "    print(f\"{col}: пустых строк — {n_empty}\")"
   ]
  },
  {
   "cell_type": "code",
   "execution_count": 10,
   "id": "df4a6f60",
   "metadata": {
    "execution": {
     "iopub.execute_input": "2025-05-22T10:04:15.975224Z",
     "iopub.status.busy": "2025-05-22T10:04:15.974706Z",
     "iopub.status.idle": "2025-05-22T10:04:23.237354Z",
     "shell.execute_reply": "2025-05-22T10:04:23.237354Z"
    },
    "papermill": {
     "duration": 7.266337,
     "end_time": "2025-05-22T10:04:23.237354",
     "exception": false,
     "start_time": "2025-05-22T10:04:15.971017",
     "status": "completed"
    },
    "tags": []
   },
   "outputs": [
    {
     "name": "stdout",
     "output_type": "stream",
     "text": [
      "Уникальных пользователей: 2,695,974\n"
     ]
    },
    {
     "name": "stdout",
     "output_type": "stream",
     "text": [
      "Уникальных товаров: 283,507\n"
     ]
    },
    {
     "name": "stdout",
     "output_type": "stream",
     "text": [
      "\n",
      "Распределение отзывов на пользователя:\n",
      "count    2.695974e+06\n",
      "mean     1.882125e+00\n",
      "std      3.187802e+00\n",
      "min      1.000000e+00\n",
      "25%      1.000000e+00\n",
      "50%      1.000000e+00\n",
      "75%      2.000000e+00\n",
      "max      1.103000e+03\n",
      "Name: count, dtype: float64\n"
     ]
    },
    {
     "name": "stdout",
     "output_type": "stream",
     "text": [
      "\n",
      "Распределение отзывов на товар:\n",
      "count    283507.00000\n",
      "mean         17.89783\n",
      "std         107.50136\n",
      "min           1.00000\n",
      "25%           1.00000\n",
      "50%           3.00000\n",
      "75%           9.00000\n",
      "max       11526.00000\n",
      "Name: count, dtype: float64\n"
     ]
    }
   ],
   "source": [
    "# Выводим сводную статистику по количеству отзывов на одного пользователя и на товар\n",
    "print(f\"Уникальных пользователей: {df['user_id'].nunique():,}\")\n",
    "print(f\"Уникальных товаров: {df['item_id'].nunique():,}\")\n",
    "\n",
    "# Распределение по количеству отзывов на пользователя\n",
    "user_counts = df[\"user_id\"].value_counts()\n",
    "print(\"\\nРаспределение отзывов на пользователя:\")\n",
    "print(user_counts.describe())\n",
    "\n",
    "# Распределение по количеству отзывов на товар\n",
    "item_counts = df[\"item_id\"].value_counts()\n",
    "print(\"\\nРаспределение отзывов на товар:\")\n",
    "print(item_counts.describe())\n"
   ]
  },
  {
   "cell_type": "markdown",
   "id": "d5160683",
   "metadata": {
    "papermill": {
     "duration": 0.0,
     "end_time": "2025-05-22T10:04:23.237354",
     "exception": false,
     "start_time": "2025-05-22T10:04:23.237354",
     "status": "completed"
    },
    "tags": []
   },
   "source": [
    "**EDA: Анализ взаимодействий пользователей и товаров**\n",
    "\n",
    "После предобработки и очистки ключевых полей (`user_id`, `item_id`, `timestamp`, `rating`) были получены следующие обобщающие характеристики:\n",
    "\n",
    "**Пользователи (`user_id`)**\n",
    "- Уникальных пользователей: **2,695,974**\n",
    "- Среднее количество отзывов на пользователя: **~1.88**\n",
    "- Медиана: **1**\n",
    "- 75% пользователей оставили **не более 2 отзывов**\n",
    "- Максимум: **1,103 отзывов** от одного пользователя\n",
    "\n",
    "**Вывод:** большинство пользователей — однократные, модель не сможет на них обучиться или делать рекомендации. Необходима фильтрация.\n",
    "\n",
    "**Товары (`item_id`)**\n",
    "- Уникальных товаров: **283,507**\n",
    "- Среднее количество отзывов на товар: **~17.9**\n",
    "- Медиана: **3**\n",
    "- 75% товаров имеют **не более 9 отзывов**\n",
    "- Максимум: **11,526 отзывов** у одного товара\n",
    "\n",
    "**Вывод:** наблюдается длинный хвост товаров с малым числом взаимодействий. Необходимо отфильтровать самые \"холодные\" товары для повышения устойчивости модели.\n"
   ]
  },
  {
   "cell_type": "code",
   "execution_count": 11,
   "id": "41696b87",
   "metadata": {
    "execution": {
     "iopub.execute_input": "2025-05-22T10:04:23.253029Z",
     "iopub.status.busy": "2025-05-22T10:04:23.253029Z",
     "iopub.status.idle": "2025-05-22T10:04:27.187457Z",
     "shell.execute_reply": "2025-05-22T10:04:27.187457Z"
    },
    "papermill": {
     "duration": 3.950103,
     "end_time": "2025-05-22T10:04:27.187457",
     "exception": false,
     "start_time": "2025-05-22T10:04:23.237354",
     "status": "completed"
    },
    "tags": []
   },
   "outputs": [],
   "source": [
    "# Считаем количество взаимодействий по пользователям и товарам\n",
    "user_counts = df[\"user_id\"].value_counts()\n",
    "item_counts = df[\"item_id\"].value_counts()"
   ]
  },
  {
   "cell_type": "markdown",
   "id": "bbaea5af",
   "metadata": {
    "papermill": {
     "duration": 0.0,
     "end_time": "2025-05-22T10:04:27.187457",
     "exception": false,
     "start_time": "2025-05-22T10:04:27.187457",
     "status": "completed"
    },
    "tags": []
   },
   "source": [
    "### Фильтрация по активности пользователей и товаров\n",
    "\n",
    "Удаляем \"холодные\" товары и пассивных пользователей:\n",
    "- Оставляем только пользователей с ≥2 отзывами\n",
    "- И товары с ≥5 отзывами\n",
    "Это помогает стабилизировать обучение модели и исключает шумовые взаимодействия.\n"
   ]
  },
  {
   "cell_type": "code",
   "execution_count": 12,
   "id": "ee298d65",
   "metadata": {
    "execution": {
     "iopub.execute_input": "2025-05-22T10:04:27.204092Z",
     "iopub.status.busy": "2025-05-22T10:04:27.204092Z",
     "iopub.status.idle": "2025-05-22T10:04:28.304778Z",
     "shell.execute_reply": "2025-05-22T10:04:28.304778Z"
    },
    "papermill": {
     "duration": 1.117321,
     "end_time": "2025-05-22T10:04:28.304778",
     "exception": false,
     "start_time": "2025-05-22T10:04:27.187457",
     "status": "completed"
    },
    "tags": []
   },
   "outputs": [],
   "source": [
    "# Оставляем пользователей с ≥2 отзывами и товары с ≥5 отзывами\n",
    "active_users = user_counts[user_counts >= 2].index\n",
    "popular_items = item_counts[item_counts >= 5].index"
   ]
  },
  {
   "cell_type": "code",
   "execution_count": 13,
   "id": "7177c343",
   "metadata": {
    "execution": {
     "iopub.execute_input": "2025-05-22T10:04:28.304778Z",
     "iopub.status.busy": "2025-05-22T10:04:28.304778Z",
     "iopub.status.idle": "2025-05-22T10:04:30.676273Z",
     "shell.execute_reply": "2025-05-22T10:04:30.676273Z"
    },
    "papermill": {
     "duration": 2.371495,
     "end_time": "2025-05-22T10:04:30.676273",
     "exception": false,
     "start_time": "2025-05-22T10:04:28.304778",
     "status": "completed"
    },
    "tags": []
   },
   "outputs": [],
   "source": [
    "# Фильтруем\n",
    "df_filtered = df[df[\"user_id\"].isin(active_users) & df[\"item_id\"].isin(popular_items)]"
   ]
  },
  {
   "cell_type": "code",
   "execution_count": 14,
   "id": "222b03e6",
   "metadata": {
    "execution": {
     "iopub.execute_input": "2025-05-22T10:04:30.676273Z",
     "iopub.status.busy": "2025-05-22T10:04:30.676273Z",
     "iopub.status.idle": "2025-05-22T10:04:32.293896Z",
     "shell.execute_reply": "2025-05-22T10:04:32.293896Z"
    },
    "papermill": {
     "duration": 1.617623,
     "end_time": "2025-05-22T10:04:32.293896",
     "exception": false,
     "start_time": "2025-05-22T10:04:30.676273",
     "status": "completed"
    },
    "tags": []
   },
   "outputs": [
    {
     "name": "stdout",
     "output_type": "stream",
     "text": [
      "Осталось строк: 3,044,960\n"
     ]
    },
    {
     "name": "stdout",
     "output_type": "stream",
     "text": [
      "Уникальных пользователей: 857,529\n"
     ]
    },
    {
     "name": "stdout",
     "output_type": "stream",
     "text": [
      "Уникальных товаров: 106,591\n"
     ]
    }
   ],
   "source": [
    "print(f\"Осталось строк: {len(df_filtered):,}\")\n",
    "print(f\"Уникальных пользователей: {df_filtered['user_id'].nunique():,}\")\n",
    "print(f\"Уникальных товаров: {df_filtered['item_id'].nunique():,}\")"
   ]
  },
  {
   "cell_type": "code",
   "execution_count": 15,
   "id": "1727a67c",
   "metadata": {
    "execution": {
     "iopub.execute_input": "2025-05-22T10:04:32.293896Z",
     "iopub.status.busy": "2025-05-22T10:04:32.293896Z",
     "iopub.status.idle": "2025-05-22T10:04:36.790155Z",
     "shell.execute_reply": "2025-05-22T10:04:36.790155Z"
    },
    "papermill": {
     "duration": 4.496259,
     "end_time": "2025-05-22T10:04:36.790155",
     "exception": false,
     "start_time": "2025-05-22T10:04:32.293896",
     "status": "completed"
    },
    "tags": []
   },
   "outputs": [],
   "source": [
    "# Сохраняем отфильтрованные взаимодействия для последующего использования\n",
    "df_filtered.to_csv(\"data/amazon_interactions_filtered.csv\", index=False)"
   ]
  },
  {
   "cell_type": "code",
   "execution_count": 16,
   "id": "82a3c814",
   "metadata": {
    "execution": {
     "iopub.execute_input": "2025-05-22T10:04:36.790155Z",
     "iopub.status.busy": "2025-05-22T10:04:36.790155Z",
     "iopub.status.idle": "2025-05-22T10:04:36.804510Z",
     "shell.execute_reply": "2025-05-22T10:04:36.804510Z"
    },
    "papermill": {
     "duration": 0.014355,
     "end_time": "2025-05-22T10:04:36.804510",
     "exception": false,
     "start_time": "2025-05-22T10:04:36.790155",
     "status": "completed"
    },
    "tags": []
   },
   "outputs": [],
   "source": [
    "# Выводим минимальную и максимальную дату по unix timestamp\n",
    "ts_min = df_filtered[\"timestamp\"].min()\n",
    "ts_max = df_filtered[\"timestamp\"].max()"
   ]
  },
  {
   "cell_type": "code",
   "execution_count": 17,
   "id": "a4d58aba",
   "metadata": {
    "execution": {
     "iopub.execute_input": "2025-05-22T10:04:36.804510Z",
     "iopub.status.busy": "2025-05-22T10:04:36.804510Z",
     "iopub.status.idle": "2025-05-22T10:04:36.816377Z",
     "shell.execute_reply": "2025-05-22T10:04:36.816377Z"
    },
    "papermill": {
     "duration": 0.011867,
     "end_time": "2025-05-22T10:04:36.816377",
     "exception": false,
     "start_time": "2025-05-22T10:04:36.804510",
     "status": "completed"
    },
    "tags": []
   },
   "outputs": [
    {
     "name": "stdout",
     "output_type": "stream",
     "text": [
      "Минимальная дата: 2000-08-09\n",
      "Максимальная дата: 2018-10-05\n"
     ]
    },
    {
     "name": "stderr",
     "output_type": "stream",
     "text": [
      "C:\\Users\\Администратор\\AppData\\Local\\Temp\\ipykernel_7912\\1005897093.py:1: DeprecationWarning: datetime.datetime.utcfromtimestamp() is deprecated and scheduled for removal in a future version. Use timezone-aware objects to represent datetimes in UTC: datetime.datetime.fromtimestamp(timestamp, datetime.UTC).\n",
      "  print(\"Минимальная дата:\", datetime.datetime.utcfromtimestamp(ts_min).date())\n",
      "C:\\Users\\Администратор\\AppData\\Local\\Temp\\ipykernel_7912\\1005897093.py:2: DeprecationWarning: datetime.datetime.utcfromtimestamp() is deprecated and scheduled for removal in a future version. Use timezone-aware objects to represent datetimes in UTC: datetime.datetime.fromtimestamp(timestamp, datetime.UTC).\n",
      "  print(\"Максимальная дата:\", datetime.datetime.utcfromtimestamp(ts_max).date())\n"
     ]
    }
   ],
   "source": [
    "print(\"Минимальная дата:\", datetime.datetime.utcfromtimestamp(ts_min).date())\n",
    "print(\"Максимальная дата:\", datetime.datetime.utcfromtimestamp(ts_max).date())"
   ]
  },
  {
   "cell_type": "markdown",
   "id": "df22dfa5",
   "metadata": {
    "papermill": {
     "duration": 0.0,
     "end_time": "2025-05-22T10:04:36.816377",
     "exception": false,
     "start_time": "2025-05-22T10:04:36.816377",
     "status": "completed"
    },
    "tags": []
   },
   "source": [
    "### Временной анализ\n",
    "\n",
    "Построим распределение количества отзывов по годам, чтобы определить наиболее насыщенный временной отрезок.\n"
   ]
  },
  {
   "cell_type": "code",
   "execution_count": 18,
   "id": "39920f5b",
   "metadata": {
    "execution": {
     "iopub.execute_input": "2025-05-22T10:04:36.832049Z",
     "iopub.status.busy": "2025-05-22T10:04:36.832049Z",
     "iopub.status.idle": "2025-05-22T10:04:37.631902Z",
     "shell.execute_reply": "2025-05-22T10:04:37.631902Z"
    },
    "papermill": {
     "duration": 0.815525,
     "end_time": "2025-05-22T10:04:37.631902",
     "exception": false,
     "start_time": "2025-05-22T10:04:36.816377",
     "status": "completed"
    },
    "tags": []
   },
   "outputs": [
    {
     "data": {
      "image/png": "[encoded data removed]",
      "text/plain": [
       "<Figure size 1000x400 with 1 Axes>"
      ]
     },
     "metadata": {},
     "output_type": "display_data"
    }
   ],
   "source": [
    "# Визуализируем, как распределены взаимодействия по годам\n",
    "df[\"year\"] = pd.to_datetime(df[\"timestamp\"], unit=\"s\").dt.year\n",
    "df[\"year\"].value_counts().sort_index().plot(kind=\"bar\", figsize=(10, 4), title=\"Распределение по годам\")\n",
    "plt.show()"
   ]
  },
  {
   "cell_type": "markdown",
   "id": "c36627d0",
   "metadata": {
    "papermill": {
     "duration": 0.0,
     "end_time": "2025-05-22T10:04:37.631902",
     "exception": false,
     "start_time": "2025-05-22T10:04:37.631902",
     "status": "completed"
    },
    "tags": []
   },
   "source": [
    "### Результаты предобработки и EDA взаимодействий\n",
    "\n",
    "- Исходный датасет Amazon Grocery Reviews (`Grocery_and_Gourmet_Food_5.json.gz`) содержал ~5 млн строк и охватывал период с 2000 по 2018 год.\n",
    "- После фильтрации по активности (`user_id ≥ 2`, `item_id ≥ 5`) осталось:\n",
    "  - **3,044,960** строк\n",
    "  - **857,529** пользователей\n",
    "  - **106,591** товаров\n",
    "\n",
    "Это ядро содержит **достаточно плотные, чистые и современные** взаимодействия.\n",
    "\n",
    "---\n",
    "\n",
    "### Выбор временного диапазона\n",
    "\n",
    "Анализ показал, что **2016 год** — самый активный и насыщенный по числу отзывов.\n",
    "\n",
    "Именно этот год будет выбран для генерации train/test split и обучения модели.  \n",
    "Остальная обработка будет перенесена в отдельный ноутбук.\n",
    "\n"
   ]
  }
 ],
 "metadata": {
  "kernelspec": {
   "display_name": "venv",
   "language": "python",
   "name": "python3"
  },
  "language_info": {
   "codemirror_mode": {
    "name": "ipython",
    "version": 3
   },
   "file_extension": ".py",
   "mimetype": "text/x-python",
   "name": "python",
   "nbconvert_exporter": "python",
   "pygments_lexer": "ipython3",
   "version": "3.12.7"
  },
  "papermill": {
   "default_parameters": {},
   "duration": 74.437795,
   "end_time": "2025-05-22T10:04:40.154885",
   "environment_variables": {},
   "exception": null,
   "input_path": "02_amazon_grocery_interactions_preprocessing_and_eda.ipynb",
   "output_path": "02_amazon_grocery_interactions_preprocessing_and_eda.ipynb",
   "parameters": {},
   "start_time": "2025-05-22T10:03:25.717090",
   "version": "2.6.0"
  }
 },
 "nbformat": 4,
 "nbformat_minor": 5
}